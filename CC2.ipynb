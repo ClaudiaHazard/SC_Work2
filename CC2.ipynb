{
 "cells": [
  {
   "cell_type": "markdown",
   "metadata": {},
   "source": [
    "<h1><center>INF285 - Computación Científica </center></h1>\n",
    "<h1><center>Tarea 2</center></h1>\n",
    "<h3><center>Claudia Hazard Valdés  <br> <br/> claudia.hazard.14@sansano.usm.cl <br><br/>              201404523-9</center></h3>  _Marzo 2017_"
   ]
  },
  {
   "cell_type": "markdown",
   "metadata": {},
   "source": [
    "* [1.- Introducción](#Intro)\n",
    "* [2.- Desarrollo y análisis de resultados](#Des)\n",
    "    * [Aritmética Punto Flotante](#aritmetica)\n",
    "    * [Pérdida de Significancia](#perdida)\n",
    "* [5.- Conclusiones](#con)\n",
    "* [5.- Referencias](#ref)"
   ]
  },
  {
   "cell_type": "markdown",
   "metadata": {},
   "source": [
    "<div id='Intro' />\n",
    "<h2>1. Introducción</h2>"
   ]
  },
  {
   "cell_type": "markdown",
   "metadata": {},
   "source": [
    "Se han realizado diversos ejercicios relacionados con aritmética y punto flotante a traves de Ipython. Se han analizado y mostrado utilizando las librerias Numpy, Scipy, Sympy, Matplotlib y ipywidgets teniendo en cuenta los numeros standard IEEE 754 floating points y el metodo de redondeo de estos."
   ]
  },
  {
   "cell_type": "markdown",
   "metadata": {},
   "source": [
    "<div id='Des' />\n",
    "<h2>2. Desarrollo y análisis de resultados.</h2>"
   ]
  },
  {
   "cell_type": "code",
   "execution_count": 1,
   "metadata": {},
   "outputs": [],
   "source": [
    "import numpy as np\n",
    "import matplotlib.pyplot as plt\n",
    "import bitstring as bs\n",
    "%matplotlib inline"
   ]
  },
  {
   "cell_type": "markdown",
   "metadata": {},
   "source": [
    "<div id='aritmetica' />\n",
    "          <h2> -  Aritmética de Punto Flotante </h2>"
   ]
  },
  {
   "cell_type": "markdown",
   "metadata": {},
   "source": [
    "\n",
    "<p style=\"font-size: 15px; line-height: 135%;}\"> El estándar IEEE consiste en un set de representaciones binarias de numeros reales, en donde la precisión denominada <i> double precision</i> se estructuran de la siguiente forma: el <b>signo</b> ( + o - ) que ocupa 1 bit, una <b>mantisa</b> $b$ , que contiene un string the bits significantes, usando un total de 52 bits y el <b>exponente</b> $p$, que ocupa 11 bits. La representación normalizada de los números de punto flotante es la siguiente:\n",
    "\n",
    "$$ \\pm1.bbb...b \\times 2^p$$\n"
   ]
  },
  {
   "cell_type": "markdown",
   "metadata": {},
   "source": [
    "<p style=\"font-size: 15px; line-height: 135%;}\">a)  Defina que corresponde el valor de <b>machine epsilon</b> $\\epsilon_{mach}$ y explique porqué es posible obtener dicho valor en una computadora IEEE de doble precisión calculando el valor de la siguiente resta:</p>\n",
    "\n",
    "$$\\left(\\frac{7.0}{3.0} - \\frac{4.0}{3.0}\\right) - 1.0 $$\n",
    "\n",
    "<p style=\"font-size: 15px; line-height: 135%;}\"> Implemente la resta usando variables de doble precisión y describa el procedimiento usando aritmética de doble precisión y Nearest Rounding Rule </p>\n",
    "\n"
   ]
  },
  {
   "cell_type": "markdown",
   "metadata": {},
   "source": [
    "El valor machine epsilon $\\epsilon_{mach}$ corresponde a la diferencia que existe entre el numero 1 y el siguiente valor representable en una computadora IEEE de doble, este corresponde a $1+2^{-52}$.\n",
    "\n",
    "Por lo tanto  $\\epsilon_{mach} =  1+2^{-52} - 1$ , $\\epsilon_{mach} = (2^{-52})_{2}$ numero que en decimal correponde a $\\approx 2 \\ x \\ 10^{-16}$.\n"
   ]
  },
  {
   "cell_type": "code",
   "execution_count": 2,
   "metadata": {},
   "outputs": [
    {
     "name": "stdout",
     "output_type": "stream",
     "text": [
      "2.220446049250313e-16\n"
     ]
    }
   ],
   "source": [
    "print((7.0/3.0 - 4.0/3.0 ) - 1.0)"
   ]
  },
  {
   "cell_type": "markdown",
   "metadata": {},
   "source": [
    "El valor obtenido corresponde a $\\epsilon_{mach}$ ya que la computadora realiza primero las divisiones y luego las restas, entonces esta redondea dichas divisiones, de esta forma el error de calculo dependerá de $\\epsilon_{mach}$ y al deber dar 0 entrega el maximo error de presición posible.\n",
    "\n",
    "En cambio si se realiza primero la resta y luego la división el resultado es bastante distinto:"
   ]
  },
  {
   "cell_type": "code",
   "execution_count": 3,
   "metadata": {},
   "outputs": [
    {
     "name": "stdout",
     "output_type": "stream",
     "text": [
      "0.0\n"
     ]
    }
   ],
   "source": [
    "print(((7.0- 4.0)/3.0)  - 1.0)"
   ]
  },
  {
   "cell_type": "markdown",
   "metadata": {},
   "source": [
    " $\\\\$"
   ]
  },
  {
   "cell_type": "code",
   "execution_count": 5,
   "metadata": {},
   "outputs": [],
   "source": [
    "def to_binary(f):\n",
    "    b = bs.pack('>d', f)\n",
    "    b = b.bin\n",
    "    #show sign + exponent + mantisa\n",
    "    return b[0]+' '+b[1:12]+ ' '+b[12:]"
   ]
  },
  {
   "cell_type": "markdown",
   "metadata": {},
   "source": [
    "Se tendrán los valores $ \\frac{7.0}{3.0} \\equiv 2.\\overline{3}$ y $\\frac{4.0}{3.0} \\equiv 1.\\overline{3} $"
   ]
  },
  {
   "cell_type": "code",
   "execution_count": 6,
   "metadata": {},
   "outputs": [
    {
     "name": "stdout",
     "output_type": "stream",
     "text": [
      "El valor 7.0/3.0 = \n",
      "0 10000000000 0010101010101010101010101010101010101010101010101011\n",
      "El valor 4.0/3.0 = \n",
      "0 01111111111 0101010101010101010101010101010101010101010101010101\n"
     ]
    }
   ],
   "source": [
    "print (\"El valor 7.0/3.0 = \",)\n",
    "print (to_binary(7.0/3.0))\n",
    "print (\"El valor 4.0/3.0 = \",)\n",
    "print(to_binary(4.0/3.0))"
   ]
  },
  {
   "cell_type": "markdown",
   "metadata": {},
   "source": [
    "¿Como es que se llega a estos valores?\n",
    "\n",
    "Para $2.\\overline{3}$:"
   ]
  },
  {
   "cell_type": "code",
   "execution_count": 7,
   "metadata": {},
   "outputs": [
    {
     "name": "stdout",
     "output_type": "stream",
     "text": [
      "El valor 2.333333333333333 = \n",
      "0 10000000000 0010101010101010101010101010101010101010101010101010\n",
      "El valor 2.3333333333333333 = \n",
      "0 10000000000 0010101010101010101010101010101010101010101010101011\n"
     ]
    }
   ],
   "source": [
    "print (\"El valor 2.333333333333333 = \",)\n",
    "print (to_binary(2.333333333333333))\n",
    "print (\"El valor 2.3333333333333333 = \",)\n",
    "print(to_binary(2.3333333333333333))"
   ]
  },
  {
   "cell_type": "markdown",
   "metadata": {},
   "source": [
    "Se puede ver que el valor de $2.\\overline{3}$ ha sido redondeado hacia arriba, aplicando Nearest Rounding Rule:\n",
    "\n",
    "\n",
    "0  $ \\\\$  10000000000  $\\\\$    0010101010101010101010101010101010101010101010101010  $\\\\$   1010101010\n",
    "\n",
    "Como el digito que se encuentra en $2^{-53}$ es 1 y no todos los valores a su derecha son 0, se debe redondear hacia arriba."
   ]
  },
  {
   "cell_type": "markdown",
   "metadata": {},
   "source": [
    "\n",
    "\n",
    "Se crea la funcion NRR que calcula el Nearest Rounding Rule:"
   ]
  },
  {
   "cell_type": "code",
   "execution_count": 8,
   "metadata": {
    "collapsed": true
   },
   "outputs": [],
   "source": [
    "#Función que suma 1 a un numero expresado en IEEE.\n",
    "def suma1(num):\n",
    "    for x in range(len(num)):\n",
    "        if bin(int(num[(len(num)-1-x)],2)+1)[2:]=='1':\n",
    "            return num[:(len(num)-1-x)]+'1'+num[(len(num)-x):]\n",
    "        else:\n",
    "            num=num[:(len(num)-1-x)]+'0'+num[(len(num)-x):]"
   ]
  },
  {
   "cell_type": "code",
   "execution_count": 9,
   "metadata": {
    "collapsed": true
   },
   "outputs": [],
   "source": [
    "#Función que calcula si los numeros a la derecha son todos 0.\n",
    "def sumadig(a):\n",
    "    s=0\n",
    "    for x in a:\n",
    "        s+=int(x)\n",
    "    return s  "
   ]
  },
  {
   "cell_type": "code",
   "execution_count": 10,
   "metadata": {
    "collapsed": true
   },
   "outputs": [],
   "source": [
    "#Función que realiza la regla de redondeo al numero mas cercano.\n",
    "def NRR(mant):\n",
    "    # Si la mantissa no exede los 52 espacios de almacenamiento, se retorna el mismo numero.\n",
    "    if len(mant)==52:\n",
    "        return mant[:52]\n",
    "    # Si el valor numero 53 es 0, se redondea hacia abajo.\n",
    "    elif mant[52]=='0':\n",
    "        return mant[:52]\n",
    "    #Si el valor numero 53 es un 1 y todos los valores a su derecha son 0 se aproxima hacia abajo. \n",
    "    elif sumadig(mant[52:])==1:\n",
    "        return mant[:52]\n",
    "    #Sino se suma 1 (Aproxima hacia arriba.)\n",
    "    else:\n",
    "        return suma1(mant[:52])"
   ]
  },
  {
   "cell_type": "code",
   "execution_count": 11,
   "metadata": {},
   "outputs": [
    {
     "name": "stdout",
     "output_type": "stream",
     "text": [
      "El valor de la mantissa de 2.33333... utilizando el redondeo es:\n",
      "0010101010101010101010101010101010101010101010101011\n"
     ]
    }
   ],
   "source": [
    "print('El valor de la mantissa de 2.33333... utilizando el redondeo es:')\n",
    "print (NRR('001010101010101010101010101010101010101010101010101010101'))"
   ]
  },
  {
   "cell_type": "code",
   "execution_count": 12,
   "metadata": {},
   "outputs": [
    {
     "name": "stdout",
     "output_type": "stream",
     "text": [
      "El valor de la mantissa de 1.33333... utilizando el redondeo es:\n",
      "0101010101010101010101010101010101010101010101010101\n"
     ]
    }
   ],
   "source": [
    "print('El valor de la mantissa de 1.33333... utilizando el redondeo es:')\n",
    "print (NRR('0101010101010101010101010101010101010101010101010101010101'))"
   ]
  },
  {
   "cell_type": "markdown",
   "metadata": {},
   "source": [
    "Por lo tanto el valor $2.\\overline{3} $ es aproximado hacia arriba mientras que $1.\\overline{3}$ es aproximado hacia abajo.\n",
    "\n",
    "Luego al realizar la resta:"
   ]
  },
  {
   "cell_type": "code",
   "execution_count": 13,
   "metadata": {},
   "outputs": [
    {
     "name": "stdout",
     "output_type": "stream",
     "text": [
      "0 01111111111 0000000000000000000000000000000000000000000000000001\n"
     ]
    }
   ],
   "source": [
    "print (to_binary((7.0/3.0)-(4.0/3.0)))"
   ]
  },
  {
   "cell_type": "markdown",
   "metadata": {},
   "source": [
    "Esta queda con un error de $(2^{-52})_{2}$ \n",
    "Finalmente se resta con 1 quedando simplemente el valor de $\\epsilon_{mach}$"
   ]
  },
  {
   "cell_type": "code",
   "execution_count": 14,
   "metadata": {},
   "outputs": [
    {
     "name": "stdout",
     "output_type": "stream",
     "text": [
      "0 01111001011 0000000000000000000000000000000000000000000000000000\n"
     ]
    }
   ],
   "source": [
    "print (to_binary(((7.0/3.0)-(4.0/3.0))-1))"
   ]
  },
  {
   "cell_type": "markdown",
   "metadata": {},
   "source": [
    "<p style=\"font-size: 18px; line-height: 135%;}\"> b) Considere la serie geométrica:</p>\n",
    "\n",
    "$$\\sum_{i=0}^{\\infty} r^i = \\frac{1}{1-r}$$ \n",
    "\n",
    "<p style=\"font-size: 18px; line-height: 135%;}\"> \n",
    "para $|r|<1$. Ahora considere el siguiente código.</p>"
   ]
  },
  {
   "cell_type": "code",
   "execution_count": 15,
   "metadata": {},
   "outputs": [],
   "source": [
    "# Suma parcial de serie geométrica.\n",
    "# Esta función realiza una suma parcial de la serie geométrica con M terminos, \n",
    "# pero detecta si es que los terminos que se están agregando aportan o no al\n",
    "# resultado final. En caso de que los terminos ya no aporten, se detiene el loop\n",
    "# y se retorna el valor obtenido y el índice en que se detuvo el loop.\n",
    "\n",
    "def my_partial_geometric_series(r,M):\n",
    "    sum_final=1.0\n",
    "    sum_before=sum_final\n",
    "    final_index=-1\n",
    "    for i in np.arange(1,M):\n",
    "        sum_before +=r**i\n",
    "        if sum_final==sum_before:\n",
    "            final_index=i-1\n",
    "            break\n",
    "        else:\n",
    "            sum_final=sum_before\n",
    "    # Se retorna el valor obtenido de la suma parcial y cuando se truncó\n",
    "    # dado que no aportaba.\n",
    "    return np.array([sum_final,final_index])"
   ]
  },
  {
   "cell_type": "markdown",
   "metadata": {},
   "source": [
    "<p style=\"font-size: 18px; line-height: 135%;}\"> Ahora para distintos valores de $r$ se han obtenido el número de terminos que efectivamente aportan al resultado final dado que se está utilizando _double precision_.</p>"
   ]
  },
  {
   "cell_type": "code",
   "execution_count": 18,
   "metadata": {},
   "outputs": [],
   "source": [
    "N = 20\n",
    "M = 1e8\n",
    "r_all = np.logspace(-1,-20,N)\n",
    "out_data = np.zeros((N,2))\n",
    "for i in np.arange(N):\n",
    "    out_data[i,:]=my_partial_geometric_series(r_all[i],M)"
   ]
  },
  {
   "cell_type": "markdown",
   "metadata": {},
   "source": [
    "\n",
    "<p style=\"font-size: 18px; line-height: 135%;}\">  Graficando la candidad de terminos significativos en _double precision_ versus el $r$. </p>"
   ]
  },
  {
   "cell_type": "code",
   "execution_count": 17,
   "metadata": {},
   "outputs": [
    {
     "data": {
      "image/png": "[encoded data removed]",
      "text/plain": [
       "<matplotlib.figure.Figure at 0xda264da6d8>"
      ]
     },
     "metadata": {},
     "output_type": "display_data"
    }
   ],
   "source": [
    "plt.figure()\n",
    "plt.loglog(r_all,out_data[:,1],'.')\n",
    "plt.grid(True)\n",
    "plt.ylim([10**(-0.5),np.max(out_data[:,1])+1])\n",
    "plt.show()"
   ]
  },
  {
   "cell_type": "markdown",
   "metadata": {},
   "source": [
    "<p style=\"font-size: 18px; line-height: 135%;}\">  Explique cláramente por qué a medida que disminuye $r$ disminuye la cantidad de terminos significativos obtenidos. </p>\n"
   ]
  },
  {
   "cell_type": "markdown",
   "metadata": {},
   "source": [
    "Mientras menor es el valor de r el valor obtenido se acerca mas al limite posible de representación en el sistema de aritmética de doble presición, es decir, que mientras menor sea el valor de r menos significancia tendrá hasta llegar al punto que se vuelva 0 en el computador.\n",
    "\n",
    "Por lo que se debe cumplir:\n",
    "\n",
    "$$\\frac{| fl(x) - x |}{|x|} <= \\frac{1}{2 \\ \\epsilon_{mach} }$$\n",
    "\n",
    "Despejando:\n",
    "\n",
    "$$\\epsilon_{mach} <= \\frac{|x|}{2| fl(x) - x |}$$"
   ]
  },
  {
   "cell_type": "markdown",
   "metadata": {},
   "source": [
    "Por lo tanto los valores deben ser mayores que $\\epsilon_{mach}$ o no podrán ser representados."
   ]
  },
  {
   "cell_type": "markdown",
   "metadata": {},
   "source": [
    "<p style=\"font-size: 18px; line-height: 135%;}\"> c) Explique la razón de por qué el loop indicado debe ejecutar el break. Utilice la función \"to_binary\" incluida en el jupyter notebook \"03_floating_point_arithmetic\" para entregar su justificación. Obtenga el menor valor de $X$ que ejecuta el break. </p>"
   ]
  },
  {
   "cell_type": "code",
   "execution_count": null,
   "metadata": {},
   "outputs": [],
   "source": [
    "X=2**53\n",
    "a=X+0.0\n",
    "b=X+1.0\n",
    "while(True):\n",
    "    a+=1.0\n",
    "    b+=1.0\n",
    "    if a == b:\n",
    "        print('They are equal! Why?')\n",
    "        break"
   ]
  },
  {
   "cell_type": "markdown",
   "metadata": {},
   "source": [
    "Tomando el numero $2^{53}$ será el menor valor, ya que el computador puede guardar hasta $2^{52}$ por lo que X toma un valor tan grande que debe correr el 1 hacia la derecha tantas veces que el 1 no puede ser guardado y por esto llega a ser despreciado por el computador.\n",
    "\n",
    "Graficamente se puede ver de la siguiente forma:"
   ]
  },
  {
   "cell_type": "code",
   "execution_count": 39,
   "metadata": {},
   "outputs": [
    {
     "name": "stdout",
     "output_type": "stream",
     "text": [
      "2^53 :\n"
     ]
    },
    {
     "data": {
      "text/plain": [
       "'0 11111111110 0000000000000000000000000000000000000000000000000000'"
      ]
     },
     "execution_count": 39,
     "metadata": {},
     "output_type": "execute_result"
    }
   ],
   "source": [
    "print('2^53 =')\n",
    "to_binary(2**1023) # que corresponde a el mayor numero representable en el sistema de doble presición."
   ]
  },
  {
   "cell_type": "code",
   "execution_count": 41,
   "metadata": {},
   "outputs": [
    {
     "name": "stdout",
     "output_type": "stream",
     "text": [
      "2^53 + 1 =\n"
     ]
    },
    {
     "data": {
      "text/plain": [
       "'0 11111111110 0000000000000000000000000000000000000000000000000000'"
      ]
     },
     "execution_count": 41,
     "metadata": {},
     "output_type": "execute_result"
    }
   ],
   "source": [
    "print('2^53 + 1 =')\n",
    "to_binary(2**1023+1)"
   ]
  },
  {
   "cell_type": "markdown",
   "metadata": {},
   "source": [
    "Por lo que al sumar 1 no existe espacio para ser representado por el computador, excede el maximo de almacenamiento y tanto a como b son iguales."
   ]
  },
  {
   "cell_type": "markdown",
   "metadata": {},
   "source": [
    "<div id='perdida' />\n",
    "<h2> -  Pérdida de Significancia </h2>\n",
    "\n",
    "<p style=\"font-size: 15px; line-height: 135%;}\">La <b>Pérdida de Significancia </b> ocurre cuando en un cálculo numérico muchos dígitos relevantes se cancelan, dada la aritmética de punto flotante finita ocupada por los computadores. Cuando un número es restado por otro número considerablemente parecido, efectos indeseados ocurren tales como la cancelación  y reducción de dígitos.  </p>"
   ]
  },
  {
   "cell_type": "markdown",
   "metadata": {},
   "source": [
    "<p style=\"font-size: 18px\" > 1. Dada la función: </p>\n",
    "\n",
    "$$f(x) = \\frac{1 - x}{ 1 + x} - \\frac{1}{3x+1}$$\n",
    "\n",
    "<p>a) Grafique la función usando $x \\in {[-10,10]}$ ¿Para que valores de x la función queda reducida a $0$ ?</p>\n",
    "<p>b) Usando $x = [10^{-1} , 10^{-2} , ... , 10^{-20}] $ , calcule los valores de f(x) ¿Que ocurre con los valores observados? ¿En que momento ocurre pérdida de significancia? Describa el origen de cancelación de digítos. </p>  \n",
    "<p>c) Reescriba la función original para evitar el proceso de pérdida de significancia (hint: busqué un denominador común para ambas fracciones.) </p> \n",
    "<p> d) Analice la diferencia entre los resultados de la función $f(x)$ con la función reescrita en la pregunta anterior. Realice un gráfico que mida la diferencia entre los resultados del punto a) y c). Realice un análisis cualitativo y cuantitativo de los resultados."
   ]
  },
  {
   "cell_type": "markdown",
   "metadata": {},
   "source": [
    "a)\n",
    "\n",
    "Se grafica la función en su dominio"
   ]
  },
  {
   "cell_type": "code",
   "execution_count": 49,
   "metadata": {},
   "outputs": [
    {
     "data": {
      "image/png": "[encoded data removed]",
      "text/plain": [
       "<matplotlib.figure.Figure at 0xda267576d8>"
      ]
     },
     "metadata": {},
     "output_type": "display_data"
    }
   ],
   "source": [
    "def f(x):\n",
    "    return ((1-x)/(1+x)) - (1/(3*x + 1)) \n",
    "x=np.arange(-10,10,0.1)\n",
    "x1=np.arange(-10.0 , -1, 0.1)\n",
    "x2=np.arange(-1+0.1,-1/3,0.1)\n",
    "x3=np.arange(-1/3 + 0.1, 10,0.1)\n",
    "plt.plot(x1, f(x1),'.',x2,f(x2),'.',x3,f(x3),'.')\n",
    "plt.xlabel('eje x')\n",
    "plt.ylabel('eje y')\n",
    "plt.title('Gráfica de f(x)')\n",
    "plt.grid()\n",
    "plt.show()"
   ]
  },
  {
   "cell_type": "markdown",
   "metadata": {},
   "source": [
    "El intervalo se hace 0 para casi todos los valores de x menos los cercanos a -1."
   ]
  },
  {
   "cell_type": "markdown",
   "metadata": {},
   "source": [
    "b)"
   ]
  },
  {
   "cell_type": "code",
   "execution_count": 45,
   "metadata": {},
   "outputs": [
    {
     "name": "stdout",
     "output_type": "stream",
     "text": [
      "0.04895104895104896\n",
      "0.009324233394213177\n",
      "0.0009930249212402043\n",
      "9.99300249920898e-05\n",
      "9.999300024987612e-06\n",
      "9.99992999961563e-07\n",
      "9.999992989229156e-08\n",
      "9.999999384113778e-09\n",
      "9.999999717180685e-10\n",
      "1.000000082740371e-10\n",
      "1.000000082740371e-11\n",
      "9.999778782798785e-13\n",
      "1.000310945187266e-13\n",
      "9.992007221626409e-15\n",
      "9.992007221626409e-16\n",
      "1.1102230246251565e-16\n",
      "0.0\n",
      "0.0\n",
      "0.0\n",
      "0.0\n"
     ]
    }
   ],
   "source": [
    "for x in range(21)[1:]:\n",
    "    print (f(10**(-x)))\n",
    "    "
   ]
  },
  {
   "cell_type": "markdown",
   "metadata": {},
   "source": [
    "Se puede observar que a medida que el x tiende a 0 el numero se vuelve menor hasta el exponente -16, luego se el valor de la función se vuelve 0.\n",
    "\n",
    "La perdida de significancia ocurre en $10^{-17}$, esto ocurre ya que el computador utiliza doble presición y al superar $\\epsilon_{mach}$ que corresponde a $\\approx 2 \\ x \\ 10^{-16}$ no puede seguir guardando dichos valores.  "
   ]
  },
  {
   "cell_type": "markdown",
   "metadata": {},
   "source": [
    "c)\n"
   ]
  },
  {
   "cell_type": "markdown",
   "metadata": {},
   "source": [
    "Una forma de reescribir la ecuación es:\n",
    "\n",
    "$$f(x) = \\frac{1}{ 1 + x} - \\frac{x}{ 1 + x} - \\frac{1}{3x+1}$$\n",
    "\n",
    "De la que se puede llegar a :\n",
    "\n",
    "$$n(x) = \\frac{x(3x - 1)}{ (1 + x) (3x + 1) }$$"
   ]
  },
  {
   "cell_type": "code",
   "execution_count": 46,
   "metadata": {
    "collapsed": true
   },
   "outputs": [],
   "source": [
    "def n(x):\n",
    "    return (x*(3*x-1))/((1+x)*(3*x+1))"
   ]
  },
  {
   "cell_type": "markdown",
   "metadata": {},
   "source": [
    "d)\n",
    "\n",
    "Con la nueva función n(x) se obtienen los siguientes valores:"
   ]
  },
  {
   "cell_type": "code",
   "execution_count": 47,
   "metadata": {},
   "outputs": [
    {
     "name": "stdout",
     "output_type": "stream",
     "text": [
      "-0.04895104895104894\n",
      "-0.009324233394213208\n",
      "-0.0009930249212402754\n",
      "-9.993002499210242e-05\n",
      "-9.999300024999211e-06\n",
      "-9.999930000250002e-07\n",
      "-9.999993000002501e-08\n",
      "-9.999999300000026e-09\n",
      "-9.999999929999998e-10\n",
      "-9.999999993e-11\n",
      "-9.9999999993e-12\n",
      "-9.999999999929996e-13\n",
      "-9.999999999993002e-14\n",
      "-9.999999999999301e-15\n",
      "-9.99999999999993e-16\n",
      "-9.999999999999994e-17\n",
      "-1e-17\n",
      "-1e-18\n",
      "-1e-19\n",
      "-1e-20\n"
     ]
    }
   ],
   "source": [
    "for x in range(21)[1:]:\n",
    "    print (n(10**-x))"
   ]
  },
  {
   "cell_type": "markdown",
   "metadata": {},
   "source": [
    "Se realiza una gráfica de ambas funciones en todo el intervalo."
   ]
  },
  {
   "cell_type": "code",
   "execution_count": 53,
   "metadata": {},
   "outputs": [
    {
     "data": {
      "image/png": "[encoded data removed]",
      "text/plain": [
       "<matplotlib.figure.Figure at 0xda27b2dba8>"
      ]
     },
     "metadata": {},
     "output_type": "display_data"
    }
   ],
   "source": [
    "plt.plot(x, f(x),label='$ f(x)$')\n",
    "plt.plot(x, n(x),label='$n(x)$')\n",
    "plt.xlabel('eje x')\n",
    "plt.ylabel('eje y')\n",
    "plt.title('Grafica f(x) y n(x)')\n",
    "plt.legend(loc='upper right')\n",
    "plt.show()"
   ]
  },
  {
   "cell_type": "markdown",
   "metadata": {},
   "source": [
    "Luego se gráfica para el dominio de la función."
   ]
  },
  {
   "cell_type": "code",
   "execution_count": 54,
   "metadata": {},
   "outputs": [
    {
     "data": {
      "image/png": "[encoded data removed]",
      "text/plain": [
       "<matplotlib.figure.Figure at 0xda268bc0f0>"
      ]
     },
     "metadata": {},
     "output_type": "display_data"
    }
   ],
   "source": [
    "plt.plot(x1, f(x1),'.',x2,f(x2),'.',x3,f(x3),'.')\n",
    "plt.plot(x1, n(x1),'.',x2,n(x2),'.',x3,n(x3),'.')\n",
    "plt.xlabel('eje x')\n",
    "plt.ylabel('eje y')\n",
    "plt.title('Gráfica f(x) y n(x)')\n",
    "plt.show()"
   ]
  },
  {
   "cell_type": "markdown",
   "metadata": {},
   "source": [
    "Se calcula la diferencia entre los valores obtenidos y se grafica."
   ]
  },
  {
   "cell_type": "code",
   "execution_count": 56,
   "metadata": {},
   "outputs": [
    {
     "data": {
      "image/png": "[encoded data removed]",
      "text/plain": [
       "<matplotlib.figure.Figure at 0xda279c8c18>"
      ]
     },
     "metadata": {},
     "output_type": "display_data"
    }
   ],
   "source": [
    "plt.plot(x1, abs(f(x1)-n(x1)),'.',x2,abs(f(x2)-n(x2)),'.',x3,abs(f(x3)-n(x3)),'.')\n",
    "plt.xlabel('eje x')\n",
    "plt.ylabel('eje y')\n",
    "plt.title('Diferencia entre f(x) y n(x)')\n",
    "plt.show()"
   ]
  },
  {
   "cell_type": "markdown",
   "metadata": {},
   "source": [
    "A pesar de que (x) es la misma función que f(x), n(x) es procesada de manera distinta(dejando la división para el final), esto genera que no sea necesario aproximar tantos resultados.\n",
    "\n",
    "Tambien se puede ver que ambas funciones al acercarse a -1 osilan entre valores positivos y negativos y que la diferencia de los valores entre las funciones tiende a positivo."
   ]
  },
  {
   "cell_type": "markdown",
   "metadata": {},
   "source": [
    "<p style=\"font-size: 18px\" > 2. Para la siguiente función: </p>\n",
    "\n",
    "$$g(x) = \\frac{1 - \\sec(x)}{\\tan(x)^2} $$\n",
    "\n",
    "<p>a) Usando $x = [-2\\pi, 2\\pi ]$ observe el comportamiento de la función. </p>\n",
    "\n",
    "<p>b) Usando el intervalo $x = [-2\\pi, 2\\pi ] $ , calcule los valores de f(x) ¿Que ocurre con los valores observados? ¿En que momento ocurre pérdida de significancia? Describa el origen de cancelación de digítos. </p> \n",
    "<p>c) Reescriba la función original para evitar el proceso de pérdida de significancia (hint: implemente propiedades trigonométricas). </p> \n",
    "<p> d) Analice la diferencia entre los resultados de la función $g(x)$ con la función reescrita en la pregunta anterior. Realice un gráfico que mida la diferencia entre los resultados del punto a) y c). Realice un análisis cualitativo y cuantitativo de los resultados."
   ]
  },
  {
   "cell_type": "markdown",
   "metadata": {},
   "source": [
    "a)"
   ]
  },
  {
   "cell_type": "code",
   "execution_count": 5,
   "metadata": {},
   "outputs": [
    {
     "data": {
      "image/png": "[encoded data removed]",
      "text/plain": [
       "<matplotlib.figure.Figure at 0x7a5692ba20>"
      ]
     },
     "metadata": {},
     "output_type": "display_data"
    }
   ],
   "source": [
    "import numpy as np\n",
    "from sympy import cos, sec\n",
    "import matplotlib.pyplot as plt\n",
    "\n",
    "x=np.arange(-2 * np.pi, 2* np.pi , 0.2)\n",
    "\n",
    "def  g(x):\n",
    "     return (1 - (1/ np.cos(x))) / (np.tan(x))**2\n",
    "    \n",
    "x1 =np.arange(-2* np.pi, -np.pi, 0.2)\n",
    "x2 =np.arange(-np.pi+0.1, 0, 0.2)\n",
    "x3 =np.arange(0+0.1,np.pi,0.2)\n",
    "x4 =np.arange(np.pi+0.1, 2*np.pi,0.2)\n",
    "plt.figure(1,figsize=(10,5))\n",
    "plt.plot(x1, g(x1),'.',x2, g(x2), '.',x3, g(x3),'.',x4,g(x4),'.')\n",
    "plt.show()"
   ]
  },
  {
   "cell_type": "markdown",
   "metadata": {},
   "source": [
    "En el intervalo la función da 0 menos para los valores de x cercanos al -Pi y Pi."
   ]
  },
  {
   "cell_type": "markdown",
   "metadata": {},
   "source": [
    "b)"
   ]
  },
  {
   "cell_type": "markdown",
   "metadata": {},
   "source": [
    "Se observa el comportamiento de g(x) en el intervalo [-2 Pi, 2 Pi]"
   ]
  },
  {
   "cell_type": "code",
   "execution_count": 7,
   "metadata": {},
   "outputs": [
    {
     "name": "stdout",
     "output_type": "stream",
     "text": [
      "0.0\n",
      "-0.494966476789\n",
      "-0.479454320752\n",
      "-0.452155542339\n",
      "-0.410622947095\n",
      "-0.350776794795\n",
      "-0.265978413736\n",
      "-0.145275142068\n",
      "0.0300777790824\n",
      "0.29399936663\n",
      "0.712759410407\n",
      "1.43014025538\n",
      "2.8079819836\n",
      "5.98757102283\n",
      "16.3077277891\n",
      "98.9250222633\n",
      "585.433148745\n",
      "29.1188422466\n",
      "8.68601957169\n",
      "3.78394993022\n",
      "1.88719960202\n",
      "0.961787600141\n",
      "0.443694895655\n",
      "0.126319587922\n",
      "-0.0804589105571\n",
      "-0.220978843714\n",
      "-0.319040757559\n",
      "-0.388264294341\n",
      "-0.436799269403\n",
      "-0.469642190911\n",
      "-0.489840241529\n",
      "-0.499134027031\n",
      "-0.498290404172\n",
      "-0.487240648052\n",
      "-0.465068287958\n",
      "-0.429842799093\n",
      "-0.378245293199\n",
      "-0.30485429236\n",
      "-0.200805487423\n",
      "-0.0511932663469\n",
      "0.170275060931\n",
      "0.513213824178\n",
      "1.08025046333\n",
      "2.11255025923\n",
      "4.29361047731\n",
      "10.2524242921\n",
      "38.7513495907\n",
      "3256.77505292\n",
      "64.3076399069\n",
      "13.3732415993\n",
      "5.21394085373\n",
      "2.49975425459\n",
      "1.27782264513\n",
      "0.626910904479\n",
      "0.241202829809\n",
      "-0.0044061974887\n",
      "-0.168748165468\n",
      "-0.2823777865\n",
      "-0.362362677774\n",
      "-0.418750801202\n",
      "-0.457657698288\n",
      "-0.48283895294\n",
      "-0.496524078332\n"
     ]
    }
   ],
   "source": [
    "for i in x:\n",
    "    print (g(i))\n",
    "    "
   ]
  },
  {
   "cell_type": "markdown",
   "metadata": {},
   "source": [
    "Por lo anterior existe una perdida de significancia ocurre en el punto - 2 Pi. El origen de esto es una indeterminación en la cual el programa toma el valor 0.0\n",
    "\n",
    "Luego se calcula la existencia de indeterminaciones con valores mucho mas pequeños a los tomados en el intervalo x = [-2Pi,Pi,0.2]"
   ]
  },
  {
   "cell_type": "code",
   "execution_count": 28,
   "metadata": {},
   "outputs": [
    {
     "name": "stdout",
     "output_type": "stream",
     "text": [
      "-0.499987499791\n",
      "-0.499999993628\n",
      "-0.510702591328\n",
      "0.0\n",
      "0.0\n",
      "nan\n",
      "0.0\n",
      "0.0\n",
      "-0.499999993628\n",
      "-0.510702591328\n",
      "-0.499987499791\n"
     ]
    },
    {
     "name": "stderr",
     "output_type": "stream",
     "text": [
      "C:\\ProgramData\\Anaconda3\\lib\\site-packages\\ipykernel\\__main__.py:8: RuntimeWarning: invalid value encountered in double_scalars\n"
     ]
    }
   ],
   "source": [
    "inter=[-0.01,-0.0001,-0.0000001,-0.00000001,-0.000000001,0,0.000000001,0.00000001,0.0001,0.0000001,0.01]\n",
    "for i in inter:\n",
    "    print (g(i))"
   ]
  },
  {
   "cell_type": "markdown",
   "metadata": {},
   "source": [
    "Donde se puede ver una perdida de significancia desde el valor $10^{-8}$ hasta $-10^{-8}$ lo que sucede al tomar valores tan cercanos a 0 la resta toma el valor de 0. "
   ]
  },
  {
   "cell_type": "markdown",
   "metadata": {},
   "source": [
    "c)"
   ]
  },
  {
   "cell_type": "markdown",
   "metadata": {},
   "source": [
    "Se tendrá la función:\n",
    "$$g(x) = \\frac{1 - \\sec(x)}{\\tan(x)^2} $$\n",
    "\n",
    "Esta puede ser tomada equivalentemente como tambien como:\n",
    "\n",
    " $$g(x) = \\frac{\\cos^2(x)}{sin^2(x)}-\\frac{\\cos^2(x)}{\\sin^2(x)\\cos(x)} $$\n",
    " \n",
    "  \n",
    "  $$g(x) =\\frac{\\cos(x) ( \\cos(x) - 1)}{\\sin^2(x)} $$\n",
    "\n",
    "$$m(x) =\\frac{\\cos(x) }{-(1+ \\cos(x))}$$\n",
    "\n",
    "Y de otra forma :\n",
    "\n",
    "$$ mm(x) = \\frac{1}{tan(x)} \\ ( \\frac{1}{tan(x)} - \\frac{1}{sin(x)} )  $$"
   ]
  },
  {
   "cell_type": "code",
   "execution_count": 9,
   "metadata": {},
   "outputs": [],
   "source": [
    "def m(x):\n",
    "    return -(np.cos(x))/(1+np.cos(x))"
   ]
  },
  {
   "cell_type": "code",
   "execution_count": 14,
   "metadata": {
    "collapsed": true
   },
   "outputs": [],
   "source": [
    "def mm(x):\n",
    "    return 1/np.tan(x) * ( (1/np.tan(x))- 1/np.sin(x) )"
   ]
  },
  {
   "cell_type": "markdown",
   "metadata": {},
   "source": [
    "d)"
   ]
  },
  {
   "cell_type": "markdown",
   "metadata": {},
   "source": [
    "Se calcula los valores de las funciones reescritas anteriormente m(x) y mm(x) en los intervalos de g(x)."
   ]
  },
  {
   "cell_type": "code",
   "execution_count": 34,
   "metadata": {},
   "outputs": [
    {
     "name": "stdout",
     "output_type": "stream",
     "text": [
      "-0.5  y  0.0\n",
      "-0.494966476789  y  -0.494966476789\n",
      "-0.479454320752  y  -0.479454320752\n",
      "-0.452155542339  y  -0.452155542339\n",
      "-0.410622947095  y  -0.410622947095\n",
      "-0.350776794795  y  -0.350776794795\n",
      "-0.265978413736  y  -0.265978413736\n",
      "-0.145275142068  y  -0.145275142068\n",
      "0.0300777790824  y  0.0300777790824\n",
      "0.29399936663  y  0.29399936663\n",
      "0.712759410407  y  0.712759410407\n",
      "1.43014025538  y  1.43014025538\n",
      "2.8079819836  y  2.8079819836\n",
      "5.98757102283  y  5.98757102283\n",
      "16.3077277891  y  16.3077277891\n",
      "98.9250222633  y  98.9250222633\n",
      "585.433148745  y  585.433148745\n",
      "29.1188422466  y  29.1188422466\n",
      "8.68601957169  y  8.68601957169\n",
      "3.78394993022  y  3.78394993022\n",
      "1.88719960202  y  1.88719960202\n",
      "0.961787600141  y  0.961787600141\n",
      "0.443694895655  y  0.443694895655\n",
      "0.126319587922  y  0.126319587922\n",
      "-0.0804589105571  y  -0.0804589105571\n",
      "-0.220978843714  y  -0.220978843714\n",
      "-0.319040757559  y  -0.319040757559\n",
      "-0.388264294341  y  -0.388264294341\n",
      "-0.436799269403  y  -0.436799269403\n",
      "-0.469642190911  y  -0.469642190911\n",
      "-0.489840241529  y  -0.489840241529\n",
      "-0.499134027031  y  -0.499134027031\n",
      "-0.498290404172  y  -0.498290404172\n",
      "-0.487240648052  y  -0.487240648052\n",
      "-0.465068287958  y  -0.465068287958\n",
      "-0.429842799093  y  -0.429842799093\n",
      "-0.378245293199  y  -0.378245293199\n",
      "-0.30485429236  y  -0.30485429236\n",
      "-0.200805487423  y  -0.200805487423\n",
      "-0.0511932663469  y  -0.0511932663469\n",
      "0.170275060931  y  0.170275060931\n",
      "0.513213824178  y  0.513213824178\n",
      "1.08025046333  y  1.08025046333\n",
      "2.11255025923  y  2.11255025923\n",
      "4.29361047731  y  4.29361047731\n",
      "10.2524242921  y  10.2524242921\n",
      "38.7513495907  y  38.7513495907\n",
      "3256.77505292  y  3256.77505292\n",
      "64.3076399069  y  64.3076399069\n",
      "13.3732415993  y  13.3732415993\n",
      "5.21394085373  y  5.21394085373\n",
      "2.49975425459  y  2.49975425459\n",
      "1.27782264513  y  1.27782264513\n",
      "0.626910904479  y  0.626910904479\n",
      "0.241202829809  y  0.241202829809\n",
      "-0.0044061974887  y  -0.0044061974887\n",
      "-0.168748165468  y  -0.168748165468\n",
      "-0.2823777865  y  -0.2823777865\n",
      "-0.362362677774  y  -0.362362677774\n",
      "-0.418750801202  y  -0.418750801202\n",
      "-0.457657698288  y  -0.457657698288\n",
      "-0.48283895294  y  -0.48283895294\n",
      "-0.496524078332  y  -0.496524078332\n"
     ]
    }
   ],
   "source": [
    "for i in x:\n",
    "    print (m(i) , ' y ', mm(i))"
   ]
  },
  {
   "cell_type": "code",
   "execution_count": 35,
   "metadata": {},
   "outputs": [
    {
     "name": "stdout",
     "output_type": "stream",
     "text": [
      "-0.499987499792 y -0.499987499794\n",
      "-0.49999999875 y -0.499999985702\n",
      "-0.5 y -0.502914190292\n",
      "-0.5 y -0.0\n",
      "-0.5 y -0.0\n",
      "-0.5 y nan\n",
      "-0.5 y 0.0\n",
      "-0.5 y 0.0\n",
      "-0.49999999875 y -0.499999985702\n",
      "-0.5 y -0.502914190292\n",
      "-0.499987499792 y -0.499987499794\n"
     ]
    },
    {
     "name": "stderr",
     "output_type": "stream",
     "text": [
      "C:\\ProgramData\\Anaconda3\\lib\\site-packages\\ipykernel\\__main__.py:2: RuntimeWarning: divide by zero encountered in double_scalars\n",
      "  from ipykernel import kernelapp as app\n",
      "C:\\ProgramData\\Anaconda3\\lib\\site-packages\\ipykernel\\__main__.py:2: RuntimeWarning: invalid value encountered in double_scalars\n",
      "  from ipykernel import kernelapp as app\n"
     ]
    }
   ],
   "source": [
    "for i in inter:\n",
    "    print (m(i), 'y', mm(i))"
   ]
  },
  {
   "cell_type": "code",
   "execution_count": 20,
   "metadata": {},
   "outputs": [
    {
     "data": {
      "image/png": "[encoded data removed]",
      "text/plain": [
       "<matplotlib.figure.Figure at 0x7a5671ee48>"
      ]
     },
     "metadata": {},
     "output_type": "display_data"
    }
   ],
   "source": [
    "plt.plot(x1, g(x1),'.',x2, g(x2), '.',x3, g(x3),'.',x4,g(x4),'.')\n",
    "plt.plot(x1, m(x1),'.',x2, m(x2), '.',x3, m(x3),'.',x4,m(x4),'.')\n",
    "plt.plot(x1, mm(x1),'.',x2, mm(x2), '.',x3, mm(x3),'.',x4,mm(x4),'.')\n",
    "plt.grid(True)\n",
    "plt.xlabel('eje x')\n",
    "plt.ylabel('eje y')\n",
    "plt.title('Funciones g(x), m(x) y mm(x)')\n",
    "plt.show()"
   ]
  },
  {
   "cell_type": "markdown",
   "metadata": {},
   "source": [
    "Lo que se puede apreciar en este grafico es que las 3 funciones, tienen un grafico de la misma forma."
   ]
  },
  {
   "cell_type": "markdown",
   "metadata": {},
   "source": [
    "Luego se grafica la diferencia de la funcion g(x) y m(x)"
   ]
  },
  {
   "cell_type": "code",
   "execution_count": 22,
   "metadata": {},
   "outputs": [
    {
     "data": {
      "image/png": "[encoded data removed]",
      "text/plain": [
       "<matplotlib.figure.Figure at 0x7a5612bd68>"
      ]
     },
     "metadata": {},
     "output_type": "display_data"
    }
   ],
   "source": [
    "plt.plot(x1, abs(g(x1)-m(x1)),'.',x2, abs(g(x2)-m(x2)), '.',x3, abs(g(x3)-m(x3)),'.',x4,abs(g(x4)-m(x4)),'.')\n",
    "plt.grid()\n",
    "plt.show()"
   ]
  },
  {
   "cell_type": "markdown",
   "metadata": {},
   "source": [
    "La grafica de la diferencia entre la funcion g(x) y mm(x)"
   ]
  },
  {
   "cell_type": "code",
   "execution_count": 23,
   "metadata": {},
   "outputs": [
    {
     "data": {
      "image/png": "[encoded data removed]",
      "text/plain": [
       "<matplotlib.figure.Figure at 0x7a5ac66240>"
      ]
     },
     "metadata": {},
     "output_type": "display_data"
    }
   ],
   "source": [
    "plt.plot(x1, abs(g(x1)-mm(x1)),'.',x2, abs(g(x2)-mm(x2)), '.',x3, abs(g(x3)-mm(x3)),'.',x4,abs(g(x4)-mm(x4)),'.')\n",
    "plt.grid()\n",
    "plt.show()"
   ]
  },
  {
   "cell_type": "markdown",
   "metadata": {},
   "source": [
    "Escribir la función de formas distintas puede afectar bastante en los resultados, sobretodo en indeterminaciones o valores donde el computador deverá aproximar.\n",
    "Cerca de valores de indeterminación (donde se hace 0) la función tendera a ir a 1.\n"
   ]
  },
  {
   "cell_type": "markdown",
   "metadata": {},
   "source": [
    "<div id='con' />\n",
    "<h2>3. Conclusiones </h2>"
   ]
  },
  {
   "cell_type": "markdown",
   "metadata": {},
   "source": [
    "Los computadores tienen una memoria limitada, esto genera que los resultados de ecuaciones matematicas no siempre sean los reales, el valor maximo representable en un computador con representación de doble presición es $2^{53}$ y el menor valor representable es $2^{-52}$, estos son los topes para realizar operaciones matematicas sin problema, al sobrepasar estos se generará una perdida de información.\n",
    "Por lo que es necesario, para realizar cualquier cálculo, tener en cuenta que puede existir perdida de información."
   ]
  },
  {
   "cell_type": "markdown",
   "metadata": {
    "collapsed": true
   },
   "source": [
    "<div id='ref' />\n",
    "<h2>4. Referencias </h2>"
   ]
  },
  {
   "cell_type": "markdown",
   "metadata": {},
   "source": [
    "* _http://matplotlib.org_\n",
    "* _http://www.lawebdelprogramador.com_\n",
    "* _https://plot.ly_\n",
    "* _http://docs.sympy.org_\n",
    "* _http://nbviewer.jupyter.org_"
   ]
  }
 ],
 "metadata": {
  "anaconda-cloud": {},
  "kernelspec": {
   "display_name": "Python 3",
   "language": "python",
   "name": "python3"
  },
  "language_info": {
   "codemirror_mode": {
    "name": "ipython",
    "version": 3
   },
   "file_extension": ".py",
   "mimetype": "text/x-python",
   "name": "python",
   "nbconvert_exporter": "python",
   "pygments_lexer": "ipython3",
   "version": "3.6.3"
  }
 },
 "nbformat": 4,
 "nbformat_minor": 1
}
